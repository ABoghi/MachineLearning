{
 "cells": [
  {
   "cell_type": "markdown",
   "metadata": {},
   "source": [
    "# Introduction"
   ]
  },
  {
   "cell_type": "code",
   "execution_count": 1,
   "metadata": {},
   "outputs": [],
   "source": [
    "import machine_learning_utils as ml\n",
    "import numpy as np\n",
    "import random as rm\n",
    "import matplotlib\n",
    "from matplotlib import pyplot as plt"
   ]
  },
  {
   "cell_type": "code",
   "execution_count": 2,
   "metadata": {},
   "outputs": [],
   "source": [
    "%load_ext autoreload"
   ]
  },
  {
   "cell_type": "code",
   "execution_count": 3,
   "metadata": {},
   "outputs": [],
   "source": [
    "%autoreload 2"
   ]
  },
  {
   "cell_type": "code",
   "execution_count": 25,
   "metadata": {},
   "outputs": [
    {
     "data": {
      "text/plain": [
       "[<matplotlib.lines.Line2D at 0x1160b6438>]"
      ]
     },
     "execution_count": 25,
     "metadata": {},
     "output_type": "execute_result"
    },
    {
     "data": {
      "image/png": "[encoded data removed]",
      "text/plain": [
       "<Figure size 432x288 with 1 Axes>"
      ]
     },
     "metadata": {
      "needs_background": "light"
     },
     "output_type": "display_data"
    }
   ],
   "source": [
    "n = 100\n",
    "a = -1.0\n",
    "b = 1.0\n",
    "L = 1.0\n",
    "dx = L/(n-1)\n",
    "x = np.zeros(n)\n",
    "y = np.zeros(n)\n",
    "for i in range(n) :\n",
    "    x[i] = i*dx\n",
    "    y[i] = a + b*x[i] + rm.uniform(-1,1)\n",
    "    \n",
    "plt.plot(x,y,'o')\n"
   ]
  },
  {
   "cell_type": "code",
   "execution_count": 31,
   "metadata": {},
   "outputs": [
    {
     "name": "stdout",
     "output_type": "stream",
     "text": [
      "Learning Rate = 0.001\n",
      "iteration = 0; Cost function = 8.121812359174179\n",
      "iteration = 1; Cost function = 6.2533849534827395\n",
      "iteration = 2; Cost function = 4.825313868823715\n",
      "iteration = 3; Cost function = 3.734085136477205\n",
      "iteration = 4; Cost function = 2.900484056139263\n",
      "iteration = 5; Cost function = 2.263895282137281\n",
      "iteration = 6; Cost function = 1.7779394235322945\n",
      "iteration = 7; Cost function = 1.4071328380918482\n",
      "iteration = 8; Cost function = 1.1243307438175039\n",
      "iteration = 9; Cost function = 0.9087700008792707\n",
      "iteration = 10; Cost function = 0.7445709662464239\n",
      "iteration = 11; Cost function = 0.6195907821374865\n",
      "iteration = 12; Cost function = 0.5245456927381872\n",
      "iteration = 13; Cost function = 0.45233930221856605\n",
      "iteration = 14; Cost function = 0.3975484772722339\n",
      "iteration = 15; Cost function = 0.3560299206185446\n",
      "iteration = 16; Cost function = 0.324619110789429\n",
      "iteration = 17; Cost function = 0.30089994023426964\n",
      "iteration = 18; Cost function = 0.2830284646582011\n",
      "iteration = 19; Cost function = 0.2695980662529703\n",
      "iteration = 20; Cost function = 0.2595363112963255\n",
      "iteration = 21; Cost function = 0.2520260622522091\n",
      "iteration = 22; Cost function = 0.24644514966055184\n",
      "iteration = 23; Cost function = 0.24232024506121516\n",
      "iteration = 24; Cost function = 0.2392915988805431\n",
      "iteration = 25; Cost function = 0.23708609006376147\n",
      "iteration = 26; Cost function = 0.23549663348929645\n",
      "iteration = 27; Cost function = 0.23436644989868238\n",
      "iteration = 28; Cost function = 0.23357705417392766\n",
      "iteration = 29; Cost function = 0.23303908652312058\n",
      "iteration = 30; Cost function = 0.2326853168100596\n",
      "iteration = 31; Cost function = 0.2324653096718872\n",
      "iteration = 32; Cost function = 0.23234135853031493\n",
      "iteration = 33; Cost function = 0.2322853887831909\n",
      "iteration = 34; Cost function = 0.23227660099798605\n",
      "iteration = 35; Cost function = 0.2322996788958208\n",
      "iteration = 36; Cost function = 0.2323434282014976\n",
      "iteration = 37; Cost function = 0.23239974401753505\n",
      "iteration = 38; Cost function = 0.2324628285363325\n",
      "iteration = 39; Cost function = 0.23252859937791254\n",
      "iteration = 40; Cost function = 0.23259424296576384\n",
      "iteration = 41; Cost function = 0.23265787815157038\n",
      "iteration = 42; Cost function = 0.23271830355282921\n",
      "iteration = 43; Cost function = 0.2327748083737783\n",
      "iteration = 44; Cost function = 0.23282703129753862\n",
      "iteration = 45; Cost function = 0.2328748557162364\n",
      "iteration = 46; Cost function = 0.23291833237415877\n",
      "iteration = 47; Cost function = 0.2329576226418179\n",
      "iteration = 48; Cost function = 0.23299295727300212\n",
      "iteration = 49; Cost function = 0.2330246067425092\n",
      "iteration = 50; Cost function = 0.23305286021104388\n",
      "iteration = 51; Cost function = 0.23307801088590382\n",
      "iteration = 52; Cost function = 0.23310034609522962\n",
      "iteration = 53; Cost function = 0.23312014081077043\n",
      "iteration = 54; Cost function = 0.23313765367064415\n",
      "iteration = 55; Cost function = 0.23315312479342445\n",
      "iteration = 56; Cost function = 0.23316677485631274\n",
      "iteration = 57; Cost function = 0.23317880504715735\n",
      "iteration = 58; Cost function = 0.23318939760328802\n",
      "iteration = 59; Cost function = 0.23319871672768247\n",
      "iteration = 60; Cost function = 0.233206909731078\n",
      "iteration = 61; Cost function = 0.23321410829198633\n",
      "iteration = 62; Cost function = 0.23322042975877966\n",
      "iteration = 63; Cost function = 0.23322597844181664\n",
      "iteration = 64; Cost function = 0.23323084686103715\n",
      "iteration = 65; Cost function = 0.233235116927177\n",
      "iteration = 66; Cost function = 0.23323886104390507\n",
      "iteration = 67; Cost function = 0.23324214312469735\n",
      "iteration = 68; Cost function = 0.2332450195227984\n",
      "iteration = 69; Cost function = 0.23324753987571484\n",
      "iteration = 70; Cost function = 0.2332497478677091\n",
      "iteration = 71; Cost function = 0.2332516819150234\n",
      "iteration = 72; Cost function = 0.23325337577926164\n",
      "iteration = 73; Cost function = 0.23325485911467422\n",
      "iteration = 74; Cost function = 0.2332561579551291\n",
      "iteration = 75; Cost function = 0.23325729514640947\n",
      "iteration = 76; Cost function = 0.23325829072922113\n",
      "iteration = 77; Cost function = 0.23325916227795634\n",
      "iteration = 78; Cost function = 0.23325992519989672\n",
      "iteration = 79; Cost function = 0.23326059299914192\n",
      "iteration = 80; Cost function = 0.233261177509182\n",
      "iteration = 81; Cost function = 0.23326168909764364\n",
      "iteration = 82; Cost function = 0.23326213684640204\n",
      "iteration = 83; Cost function = 0.23326252870990696\n",
      "iteration = 84; Cost function = 0.2332628716542823\n",
      "iteration = 85; Cost function = 0.23326317177946373\n",
      "iteration = 86; Cost function = 0.23326343442640088\n",
      "iteration = 87; Cost function = 0.23326366427110778\n",
      "iteration = 88; Cost function = 0.2332638654071513\n",
      "iteration = 89; Cost function = 0.23326404141797583\n",
      "iteration = 90; Cost function = 0.23326419544029947\n",
      "iteration = 91; Cost function = 0.23326433021967238\n",
      "iteration = 92; Cost function = 0.23326444815915748\n",
      "iteration = 93; Cost function = 0.23326455136197485\n",
      "iteration = 94; Cost function = 0.23326464166885624\n",
      "iteration = 95; Cost function = 0.2332647206907585\n",
      "iteration = 96; Cost function = 0.23326478983751148\n",
      "iteration = 97; Cost function = 0.23326485034290226\n",
      "iteration = 98; Cost function = 0.23326490328663674\n",
      "iteration = 99; Cost function = 0.2332649496135661\n",
      "Final Parameters:\n",
      "[-0.19178808 -0.59589404]\n"
     ]
    }
   ],
   "source": [
    "n_it = 100\n",
    "theta = np.array([3.0, 1.0])\n",
    "alpha = 1e-03\n",
    "h = ml.runLinearGradientDescent(x,y,theta,n_it,alpha)"
   ]
  },
  {
   "cell_type": "code",
   "execution_count": 32,
   "metadata": {},
   "outputs": [
    {
     "data": {
      "text/plain": [
       "[<matplotlib.lines.Line2D at 0x1162aab00>,\n",
       " <matplotlib.lines.Line2D at 0x1162aac18>]"
      ]
     },
     "execution_count": 32,
     "metadata": {},
     "output_type": "execute_result"
    },
    {
     "data": {
      "image/png": "[encoded data removed]",
      "text/plain": [
       "<Figure size 432x288 with 1 Axes>"
      ]
     },
     "metadata": {
      "needs_background": "light"
     },
     "output_type": "display_data"
    }
   ],
   "source": [
    "plt.plot(x,y,'o',x,h,'r')"
   ]
  },
  {
   "cell_type": "code",
   "execution_count": null,
   "metadata": {},
   "outputs": [],
   "source": []
  },
  {
   "cell_type": "code",
   "execution_count": null,
   "metadata": {},
   "outputs": [],
   "source": []
  },
  {
   "cell_type": "code",
   "execution_count": null,
   "metadata": {},
   "outputs": [],
   "source": []
  }
 ],
 "metadata": {
  "kernelspec": {
   "display_name": "Python 3",
   "language": "python",
   "name": "python3"
  },
  "language_info": {
   "codemirror_mode": {
    "name": "ipython",
    "version": 3
   },
   "file_extension": ".py",
   "mimetype": "text/x-python",
   "name": "python",
   "nbconvert_exporter": "python",
   "pygments_lexer": "ipython3",
   "version": "3.7.1"
  }
 },
 "nbformat": 4,
 "nbformat_minor": 2
}
